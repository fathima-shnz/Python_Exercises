{
 "cells": [
  {
   "cell_type": "code",
   "execution_count": 1,
   "id": "ceab4164-b23e-40bf-bd41-0af3eb139c8b",
   "metadata": {},
   "outputs": [],
   "source": [
    "import numpy as np"
   ]
  },
  {
   "cell_type": "markdown",
   "id": "eebc6868-2154-4713-820b-f35c6abbc42a",
   "metadata": {},
   "source": [
    "<span style=\"font-size:20px\">Numpy</span>\n"
   ]
  },
  {
   "cell_type": "code",
   "execution_count": 3,
   "id": "d395819f-90be-4526-b47e-5dcae1db1e99",
   "metadata": {},
   "outputs": [
    {
     "data": {
      "text/plain": [
       "array([22.5, 25.3, 20.8, 23.4, 26.1, 24.8, 21.9])"
      ]
     },
     "execution_count": 3,
     "metadata": {},
     "output_type": "execute_result"
    }
   ],
   "source": [
    "#Create array\n",
    "temperatures_w1 = np.array([22.5, 25.3, 20.8, 23.4, 26.1, 24.8, 21.9])\n",
    "temperatures_w1"
   ]
  },
  {
   "cell_type": "code",
   "execution_count": 10,
   "id": "560b86c6-e21e-424a-85b0-01eae0b125b1",
   "metadata": {},
   "outputs": [
    {
     "name": "stdout",
     "output_type": "stream",
     "text": [
      "Shape:  (7,)\n",
      "Datatype:  float64\n",
      "Size:  7\n"
     ]
    }
   ],
   "source": [
    "#Inspect array\n",
    "print(\"Shape: \",temperatures_w1.shape)\n",
    "print(\"Datatype: \",temperatures_w1.dtype)\n",
    "print(\"Size: \",temperatures_w1.size)"
   ]
  },
  {
   "cell_type": "code",
   "execution_count": 12,
   "id": "1c5c4305-ca5d-4cf6-aadd-e32ee3a279e1",
   "metadata": {},
   "outputs": [
    {
     "data": {
      "text/plain": [
       "array([72.5 , 77.54, 69.44, 74.12, 78.98, 76.64, 71.42])"
      ]
     },
     "execution_count": 12,
     "metadata": {},
     "output_type": "execute_result"
    }
   ],
   "source": [
    "#Array operation\n",
    "temperatures_w1f = (temperatures_w1 *9/5) + 32\n",
    "temperatures_w1f"
   ]
  },
  {
   "cell_type": "code",
   "execution_count": 16,
   "id": "682db78f-f712-45a1-a0ff-67234e9b1d4d",
   "metadata": {},
   "outputs": [
    {
     "name": "stdout",
     "output_type": "stream",
     "text": [
      "Maximum:  26.1\n",
      "Minimum:  20.8\n",
      "Average:  23.54\n"
     ]
    }
   ],
   "source": [
    "print(\"Maximum: \", np.max(temperatures_w1))\n",
    "print(\"Minimum: \", np.min(temperatures_w1))\n",
    "print(\"Average: \", np.mean(temperatures_w1).round(2))"
   ]
  },
  {
   "cell_type": "code",
   "execution_count": 19,
   "id": "a37acb68-ad7b-40a7-8eae-b3e367383a1b",
   "metadata": {},
   "outputs": [
    {
     "data": {
      "text/plain": [
       "array([23.4, 26.1, 24.8, 21.9])"
      ]
     },
     "execution_count": 19,
     "metadata": {},
     "output_type": "execute_result"
    }
   ],
   "source": [
    "#Array slicing\n",
    "#First 3 days\n",
    "temperatures_3 = temperatures_w1[3:]\n",
    "temperatures_3"
   ]
  },
  {
   "cell_type": "code",
   "execution_count": 22,
   "id": "9ebd3547-b8c7-44f0-8760-b617fb1502c6",
   "metadata": {},
   "outputs": [
    {
     "data": {
      "text/plain": [
       "array([24.8, 21.9])"
      ]
     },
     "execution_count": 22,
     "metadata": {},
     "output_type": "execute_result"
    }
   ],
   "source": [
    "#Weekend\n",
    "temperatures_end = temperatures_w1[-2:]\n",
    "temperatures_end"
   ]
  },
  {
   "cell_type": "code",
   "execution_count": 23,
   "id": "b544e1ba-2c22-48b0-96c2-40604ec5fa8d",
   "metadata": {},
   "outputs": [
    {
     "data": {
      "text/plain": [
       "array([20.8, 23.4, 26.1])"
      ]
     },
     "execution_count": 23,
     "metadata": {},
     "output_type": "execute_result"
    }
   ],
   "source": [
    "#3 middle days\n",
    "temperatures_mid = temperatures_w1[2:5]\n",
    "temperatures_mid"
   ]
  },
  {
   "cell_type": "code",
   "execution_count": 27,
   "id": "267f7664-536f-4220-955f-ba9d950aed0e",
   "metadata": {},
   "outputs": [
    {
     "data": {
      "text/plain": [
       "array([[22.5, 25.3, 20.8, 23.4, 26.1, 24.8, 21.9],\n",
       "       [19.2, 22.5, 21.3, 24. , 23.5, 22.8, 20.1]])"
      ]
     },
     "execution_count": 27,
     "metadata": {},
     "output_type": "execute_result"
    }
   ],
   "source": [
    "#Create 2D Array\n",
    "temperatures = np.array([[22.5, 25.3, 20.8, 23.4, 26.1, 24.8, 21.9],[19.2, 22.5, 21.3, 24.0, 23.5, 22.8, 20.1]])\n",
    "temperatures"
   ]
  },
  {
   "cell_type": "code",
   "execution_count": 28,
   "id": "34e32a04-df10-46a2-a8d8-466fdec1b146",
   "metadata": {},
   "outputs": [
    {
     "name": "stdout",
     "output_type": "stream",
     "text": [
      "Shape:  (2, 7)\n",
      "Datatype:  float64\n",
      "Size:  14\n"
     ]
    }
   ],
   "source": [
    "#Inspect arrray\n",
    "print(\"Shape: \",temperatures.shape)\n",
    "print(\"Datatype: \",temperatures.dtype)\n",
    "print(\"Size: \",temperatures.size)"
   ]
  },
  {
   "cell_type": "code",
   "execution_count": 32,
   "id": "876425e9-f2d9-45ce-b226-c36537dc8e96",
   "metadata": {},
   "outputs": [
    {
     "name": "stdout",
     "output_type": "stream",
     "text": [
      "Week 1:  [22.5 25.3 20.8 23.4 26.1 24.8 21.9]\n",
      "Week 2:  [19.2 22.5 21.3 24.  23.5 22.8 20.1]\n"
     ]
    }
   ],
   "source": [
    "temp_w1 = temperatures[0]\n",
    "temp_w2 = temperatures[1]\n",
    "print(\"Week 1: \",temp_w1)\n",
    "print(\"Week 2: \",temp_w2)"
   ]
  },
  {
   "cell_type": "code",
   "execution_count": 34,
   "id": "267ac5b3-3550-43f5-a5d5-90ed04e825de",
   "metadata": {},
   "outputs": [
    {
     "name": "stdout",
     "output_type": "stream",
     "text": [
      "Weekend 1:  [24.8 21.9]\n",
      "Weekend 2:  [22.8 20.1]\n"
     ]
    }
   ],
   "source": [
    "end1 = temperatures [0,-2:]\n",
    "end2 = temperatures[1,-2:]\n",
    "print(\"Weekend 1: \",end1)\n",
    "print(\"Weekend 2: \", end2)"
   ]
  },
  {
   "cell_type": "markdown",
   "id": "549f9516-95e0-4e59-9c68-de7dbeb8c024",
   "metadata": {},
   "source": [
    "<span style=\"font-size:20px\">Pandas</span>"
   ]
  },
  {
   "cell_type": "code",
   "execution_count": 35,
   "id": "2de16ec0-f4b2-4a4e-938d-d3f8c4ac2fb0",
   "metadata": {},
   "outputs": [],
   "source": [
    "import pandas as pd"
   ]
  },
  {
   "cell_type": "code",
   "execution_count": 40,
   "id": "ec58402e-5ae5-47ae-8b13-e4414ba2662d",
   "metadata": {},
   "outputs": [
    {
     "data": {
      "text/plain": [
       "Rank1    95\n",
       "Rank2    92\n",
       "Rank3    89\n",
       "Rank4    85\n",
       "Rank5    80\n",
       "dtype: int64"
      ]
     },
     "execution_count": 40,
     "metadata": {},
     "output_type": "execute_result"
    }
   ],
   "source": [
    "#Create series\n",
    "marks = pd.Series([95, 92, 89, 85, 80],index = ['Rank1', 'Rank2', 'Rank3', 'Rank4', 'Rank5'])\n",
    "marks"
   ]
  },
  {
   "cell_type": "code",
   "execution_count": 42,
   "id": "bd3a7406-9a5a-4be7-bfdc-d69b58f412d9",
   "metadata": {},
   "outputs": [
    {
     "name": "stderr",
     "output_type": "stream",
     "text": [
      "C:\\Users\\fathi\\AppData\\Local\\Temp\\ipykernel_15452\\2887908861.py:1: FutureWarning: Series.__getitem__ treating keys as positions is deprecated. In a future version, integer keys will always be treated as labels (consistent with DataFrame behavior). To access a value by position, use `ser.iloc[pos]`\n",
      "  first_rank = marks[0]\n"
     ]
    },
    {
     "data": {
      "text/plain": [
       "np.int64(95)"
      ]
     },
     "execution_count": 42,
     "metadata": {},
     "output_type": "execute_result"
    }
   ],
   "source": [
    "#Index \n",
    "first_rank = marks[0]\n",
    "first_rank"
   ]
  },
  {
   "cell_type": "code",
   "execution_count": 43,
   "id": "edd4524f-2188-43cf-902c-8714ba8b0496",
   "metadata": {},
   "outputs": [
    {
     "data": {
      "text/plain": [
       "Rank1    95\n",
       "Rank2    92\n",
       "Rank3    89\n",
       "dtype: int64"
      ]
     },
     "execution_count": 43,
     "metadata": {},
     "output_type": "execute_result"
    }
   ],
   "source": [
    "#Using loc\n",
    "top3= marks.loc[['Rank1','Rank2','Rank3']]\n",
    "top3"
   ]
  },
  {
   "cell_type": "code",
   "execution_count": 45,
   "id": "fe68fb71-8239-42ac-b058-a10da28fef4f",
   "metadata": {},
   "outputs": [
    {
     "data": {
      "text/plain": [
       "np.int64(89)"
      ]
     },
     "execution_count": 45,
     "metadata": {},
     "output_type": "execute_result"
    }
   ],
   "source": [
    "#Using iloc\n",
    "rank3 = marks.iloc[2]\n",
    "rank3"
   ]
  },
  {
   "cell_type": "code",
   "execution_count": 46,
   "id": "8b86bb61-7fe8-46dc-a11e-69c401f83ec8",
   "metadata": {},
   "outputs": [
    {
     "data": {
      "text/plain": [
       "Rank1    95\n",
       "Rank2    92\n",
       "dtype: int64"
      ]
     },
     "execution_count": 46,
     "metadata": {},
     "output_type": "execute_result"
    }
   ],
   "source": [
    "#Boolean mask\n",
    "high_scores = marks[marks>90]\n",
    "high_scores"
   ]
  },
  {
   "cell_type": "code",
   "execution_count": 47,
   "id": "f457574f-687a-4ff8-ba74-0822ae0cb448",
   "metadata": {},
   "outputs": [
    {
     "name": "stderr",
     "output_type": "stream",
     "text": [
      "C:\\Users\\fathi\\AppData\\Local\\Temp\\ipykernel_15452\\397035428.py:2: FutureWarning: Series.__setitem__ treating keys as positions is deprecated. In a future version, integer keys will always be treated as labels (consistent with DataFrame behavior). To set a value by position, use `ser.iloc[pos] = value`\n",
      "  marks[0] = 100\n"
     ]
    },
    {
     "data": {
      "text/plain": [
       "Rank1    100\n",
       "Rank2     92\n",
       "Rank3     89\n",
       "Rank4     85\n",
       "Rank5     80\n",
       "dtype: int64"
      ]
     },
     "execution_count": 47,
     "metadata": {},
     "output_type": "execute_result"
    }
   ],
   "source": [
    "#modify first rank\n",
    "marks[0] = 100\n",
    "marks"
   ]
  },
  {
   "cell_type": "code",
   "execution_count": 50,
   "id": "856328f8-2343-4fe3-bbcd-9f343cc83dc6",
   "metadata": {},
   "outputs": [
    {
     "data": {
      "text/plain": [
       "Rank1    100\n",
       "Rank2     92\n",
       "Rank3     89\n",
       "Rank4     85\n",
       "dtype: int64"
      ]
     },
     "execution_count": 50,
     "metadata": {},
     "output_type": "execute_result"
    }
   ],
   "source": [
    "#Remove fifth rank\n",
    "marks= marks.drop('Rank5')\n",
    "marks"
   ]
  },
  {
   "cell_type": "code",
   "execution_count": 51,
   "id": "19493c7a-439d-4c46-b70e-90dbb1dc2904",
   "metadata": {},
   "outputs": [
    {
     "data": {
      "text/plain": [
       "Rank1    10.0\n",
       "Rank2     9.2\n",
       "Rank3     8.9\n",
       "Rank4     8.5\n",
       "dtype: float64"
      ]
     },
     "execution_count": 51,
     "metadata": {},
     "output_type": "execute_result"
    }
   ],
   "source": [
    "#Compute CGPA\n",
    "cgpa = marks / 10\n",
    "cgpa"
   ]
  },
  {
   "cell_type": "code",
   "execution_count": 54,
   "id": "60885c3a-77d8-4d38-82f1-19eb8a01d100",
   "metadata": {},
   "outputs": [
    {
     "data": {
      "text/html": [
       "<div>\n",
       "<style scoped>\n",
       "    .dataframe tbody tr th:only-of-type {\n",
       "        vertical-align: middle;\n",
       "    }\n",
       "\n",
       "    .dataframe tbody tr th {\n",
       "        vertical-align: top;\n",
       "    }\n",
       "\n",
       "    .dataframe thead th {\n",
       "        text-align: right;\n",
       "    }\n",
       "</style>\n",
       "<table border=\"1\" class=\"dataframe\">\n",
       "  <thead>\n",
       "    <tr style=\"text-align: right;\">\n",
       "      <th></th>\n",
       "      <th>TransactionID</th>\n",
       "      <th>ProductCategory</th>\n",
       "      <th>Region</th>\n",
       "      <th>Amount</th>\n",
       "    </tr>\n",
       "  </thead>\n",
       "  <tbody>\n",
       "    <tr>\n",
       "      <th>0</th>\n",
       "      <td>101</td>\n",
       "      <td>Electronics</td>\n",
       "      <td>North</td>\n",
       "      <td>200</td>\n",
       "    </tr>\n",
       "    <tr>\n",
       "      <th>1</th>\n",
       "      <td>102</td>\n",
       "      <td>Clothing</td>\n",
       "      <td>South</td>\n",
       "      <td>150</td>\n",
       "    </tr>\n",
       "    <tr>\n",
       "      <th>2</th>\n",
       "      <td>103</td>\n",
       "      <td>Electronics</td>\n",
       "      <td>North</td>\n",
       "      <td>300</td>\n",
       "    </tr>\n",
       "    <tr>\n",
       "      <th>3</th>\n",
       "      <td>104</td>\n",
       "      <td>Furniture</td>\n",
       "      <td>East</td>\n",
       "      <td>450</td>\n",
       "    </tr>\n",
       "    <tr>\n",
       "      <th>4</th>\n",
       "      <td>105</td>\n",
       "      <td>Clothing</td>\n",
       "      <td>West</td>\n",
       "      <td>200</td>\n",
       "    </tr>\n",
       "    <tr>\n",
       "      <th>5</th>\n",
       "      <td>106</td>\n",
       "      <td>Electronics</td>\n",
       "      <td>North</td>\n",
       "      <td>250</td>\n",
       "    </tr>\n",
       "    <tr>\n",
       "      <th>6</th>\n",
       "      <td>107</td>\n",
       "      <td>Furniture</td>\n",
       "      <td>East</td>\n",
       "      <td>300</td>\n",
       "    </tr>\n",
       "    <tr>\n",
       "      <th>7</th>\n",
       "      <td>108</td>\n",
       "      <td>Clothing</td>\n",
       "      <td>West</td>\n",
       "      <td>180</td>\n",
       "    </tr>\n",
       "    <tr>\n",
       "      <th>8</th>\n",
       "      <td>109</td>\n",
       "      <td>Furniture</td>\n",
       "      <td>South</td>\n",
       "      <td>350</td>\n",
       "    </tr>\n",
       "    <tr>\n",
       "      <th>9</th>\n",
       "      <td>110</td>\n",
       "      <td>Electronics</td>\n",
       "      <td>North</td>\n",
       "      <td>400</td>\n",
       "    </tr>\n",
       "  </tbody>\n",
       "</table>\n",
       "</div>"
      ],
      "text/plain": [
       "   TransactionID ProductCategory Region  Amount\n",
       "0            101     Electronics  North     200\n",
       "1            102        Clothing  South     150\n",
       "2            103     Electronics  North     300\n",
       "3            104       Furniture   East     450\n",
       "4            105        Clothing   West     200\n",
       "5            106     Electronics  North     250\n",
       "6            107       Furniture   East     300\n",
       "7            108        Clothing   West     180\n",
       "8            109       Furniture  South     350\n",
       "9            110     Electronics  North     400"
      ]
     },
     "execution_count": 54,
     "metadata": {},
     "output_type": "execute_result"
    }
   ],
   "source": [
    "#Create dataframe\n",
    "data = {\n",
    "    'TransactionID': [101, 102, 103, 104, 105, 106, 107, 108, 109, 110],\n",
    "    'ProductCategory': ['Electronics', 'Clothing', 'Electronics', 'Furniture',\n",
    "                        'Clothing', 'Electronics', 'Furniture', 'Clothing',\n",
    "                        'Furniture', 'Electronics'],\n",
    "    'Region': ['North', 'South', 'North', 'East', 'West', 'North', 'East',\n",
    "               'West', 'South', 'North'],\n",
    "    'Amount': [200, 150, 300, 450, 200, 250, 300, 180, 350, 400]\n",
    "}\n",
    "\n",
    "transactions = pd.DataFrame(data)\n",
    "transactions\n"
   ]
  },
  {
   "cell_type": "code",
   "execution_count": 56,
   "id": "e1a717fb-effa-42e5-bbd3-700069e24033",
   "metadata": {},
   "outputs": [
    {
     "data": {
      "text/html": [
       "<div>\n",
       "<style scoped>\n",
       "    .dataframe tbody tr th:only-of-type {\n",
       "        vertical-align: middle;\n",
       "    }\n",
       "\n",
       "    .dataframe tbody tr th {\n",
       "        vertical-align: top;\n",
       "    }\n",
       "\n",
       "    .dataframe thead th {\n",
       "        text-align: right;\n",
       "    }\n",
       "</style>\n",
       "<table border=\"1\" class=\"dataframe\">\n",
       "  <thead>\n",
       "    <tr style=\"text-align: right;\">\n",
       "      <th></th>\n",
       "      <th>TransactionID</th>\n",
       "      <th>ProductCategory</th>\n",
       "      <th>Region</th>\n",
       "      <th>Amount</th>\n",
       "    </tr>\n",
       "  </thead>\n",
       "  <tbody>\n",
       "    <tr>\n",
       "      <th>0</th>\n",
       "      <td>101</td>\n",
       "      <td>Electronics</td>\n",
       "      <td>North</td>\n",
       "      <td>200</td>\n",
       "    </tr>\n",
       "    <tr>\n",
       "      <th>1</th>\n",
       "      <td>102</td>\n",
       "      <td>Clothing</td>\n",
       "      <td>South</td>\n",
       "      <td>150</td>\n",
       "    </tr>\n",
       "    <tr>\n",
       "      <th>2</th>\n",
       "      <td>103</td>\n",
       "      <td>Electronics</td>\n",
       "      <td>North</td>\n",
       "      <td>300</td>\n",
       "    </tr>\n",
       "    <tr>\n",
       "      <th>3</th>\n",
       "      <td>104</td>\n",
       "      <td>Furniture</td>\n",
       "      <td>East</td>\n",
       "      <td>450</td>\n",
       "    </tr>\n",
       "    <tr>\n",
       "      <th>4</th>\n",
       "      <td>105</td>\n",
       "      <td>Clothing</td>\n",
       "      <td>West</td>\n",
       "      <td>200</td>\n",
       "    </tr>\n",
       "  </tbody>\n",
       "</table>\n",
       "</div>"
      ],
      "text/plain": [
       "   TransactionID ProductCategory Region  Amount\n",
       "0            101     Electronics  North     200\n",
       "1            102        Clothing  South     150\n",
       "2            103     Electronics  North     300\n",
       "3            104       Furniture   East     450\n",
       "4            105        Clothing   West     200"
      ]
     },
     "execution_count": 56,
     "metadata": {},
     "output_type": "execute_result"
    }
   ],
   "source": [
    "transactions.head()\n"
   ]
  },
  {
   "cell_type": "code",
   "execution_count": 60,
   "id": "dccd3d6e-5994-4a57-9846-c0adef8b0451",
   "metadata": {},
   "outputs": [
    {
     "data": {
      "text/html": [
       "<div>\n",
       "<style scoped>\n",
       "    .dataframe tbody tr th:only-of-type {\n",
       "        vertical-align: middle;\n",
       "    }\n",
       "\n",
       "    .dataframe tbody tr th {\n",
       "        vertical-align: top;\n",
       "    }\n",
       "\n",
       "    .dataframe thead th {\n",
       "        text-align: right;\n",
       "    }\n",
       "</style>\n",
       "<table border=\"1\" class=\"dataframe\">\n",
       "  <thead>\n",
       "    <tr style=\"text-align: right;\">\n",
       "      <th></th>\n",
       "      <th>TransactionID</th>\n",
       "      <th>ProductCategory</th>\n",
       "      <th>Region</th>\n",
       "      <th>Amount</th>\n",
       "    </tr>\n",
       "  </thead>\n",
       "  <tbody>\n",
       "    <tr>\n",
       "      <th>5</th>\n",
       "      <td>106</td>\n",
       "      <td>Electronics</td>\n",
       "      <td>North</td>\n",
       "      <td>250</td>\n",
       "    </tr>\n",
       "    <tr>\n",
       "      <th>6</th>\n",
       "      <td>107</td>\n",
       "      <td>Furniture</td>\n",
       "      <td>East</td>\n",
       "      <td>300</td>\n",
       "    </tr>\n",
       "    <tr>\n",
       "      <th>7</th>\n",
       "      <td>108</td>\n",
       "      <td>Clothing</td>\n",
       "      <td>West</td>\n",
       "      <td>180</td>\n",
       "    </tr>\n",
       "    <tr>\n",
       "      <th>8</th>\n",
       "      <td>109</td>\n",
       "      <td>Furniture</td>\n",
       "      <td>South</td>\n",
       "      <td>350</td>\n",
       "    </tr>\n",
       "    <tr>\n",
       "      <th>9</th>\n",
       "      <td>110</td>\n",
       "      <td>Electronics</td>\n",
       "      <td>North</td>\n",
       "      <td>400</td>\n",
       "    </tr>\n",
       "  </tbody>\n",
       "</table>\n",
       "</div>"
      ],
      "text/plain": [
       "   TransactionID ProductCategory Region  Amount\n",
       "5            106     Electronics  North     250\n",
       "6            107       Furniture   East     300\n",
       "7            108        Clothing   West     180\n",
       "8            109       Furniture  South     350\n",
       "9            110     Electronics  North     400"
      ]
     },
     "execution_count": 60,
     "metadata": {},
     "output_type": "execute_result"
    }
   ],
   "source": [
    "transactions.tail()"
   ]
  },
  {
   "cell_type": "code",
   "execution_count": 63,
   "id": "b11fd6d8-5747-41b5-a5d7-8b446d6eb66c",
   "metadata": {},
   "outputs": [
    {
     "data": {
      "text/plain": [
       "(10, 4)"
      ]
     },
     "execution_count": 63,
     "metadata": {},
     "output_type": "execute_result"
    }
   ],
   "source": [
    "transactions.shape"
   ]
  },
  {
   "cell_type": "code",
   "execution_count": 64,
   "id": "04bd205d-5743-48b1-b342-97aa0e114a06",
   "metadata": {},
   "outputs": [
    {
     "data": {
      "text/plain": [
       "Index(['TransactionID', 'ProductCategory', 'Region', 'Amount'], dtype='object')"
      ]
     },
     "execution_count": 64,
     "metadata": {},
     "output_type": "execute_result"
    }
   ],
   "source": [
    "transactions.columns"
   ]
  },
  {
   "cell_type": "code",
   "execution_count": 61,
   "id": "bef6a209-4a7a-422c-911f-b80dff36332c",
   "metadata": {},
   "outputs": [
    {
     "data": {
      "text/plain": [
       "TransactionID       int64\n",
       "ProductCategory    object\n",
       "Region             object\n",
       "Amount              int64\n",
       "dtype: object"
      ]
     },
     "execution_count": 61,
     "metadata": {},
     "output_type": "execute_result"
    }
   ],
   "source": [
    "transactions.dtypes"
   ]
  },
  {
   "cell_type": "code",
   "execution_count": 65,
   "id": "31f3858d-0c95-4ec0-a5af-f84b44a566a1",
   "metadata": {},
   "outputs": [
    {
     "data": {
      "text/html": [
       "<div>\n",
       "<style scoped>\n",
       "    .dataframe tbody tr th:only-of-type {\n",
       "        vertical-align: middle;\n",
       "    }\n",
       "\n",
       "    .dataframe tbody tr th {\n",
       "        vertical-align: top;\n",
       "    }\n",
       "\n",
       "    .dataframe thead th {\n",
       "        text-align: right;\n",
       "    }\n",
       "</style>\n",
       "<table border=\"1\" class=\"dataframe\">\n",
       "  <thead>\n",
       "    <tr style=\"text-align: right;\">\n",
       "      <th></th>\n",
       "      <th>ProductCategory</th>\n",
       "      <th>Amount</th>\n",
       "    </tr>\n",
       "  </thead>\n",
       "  <tbody>\n",
       "    <tr>\n",
       "      <th>0</th>\n",
       "      <td>Electronics</td>\n",
       "      <td>200</td>\n",
       "    </tr>\n",
       "    <tr>\n",
       "      <th>1</th>\n",
       "      <td>Clothing</td>\n",
       "      <td>150</td>\n",
       "    </tr>\n",
       "    <tr>\n",
       "      <th>2</th>\n",
       "      <td>Electronics</td>\n",
       "      <td>300</td>\n",
       "    </tr>\n",
       "    <tr>\n",
       "      <th>3</th>\n",
       "      <td>Furniture</td>\n",
       "      <td>450</td>\n",
       "    </tr>\n",
       "    <tr>\n",
       "      <th>4</th>\n",
       "      <td>Clothing</td>\n",
       "      <td>200</td>\n",
       "    </tr>\n",
       "    <tr>\n",
       "      <th>5</th>\n",
       "      <td>Electronics</td>\n",
       "      <td>250</td>\n",
       "    </tr>\n",
       "    <tr>\n",
       "      <th>6</th>\n",
       "      <td>Furniture</td>\n",
       "      <td>300</td>\n",
       "    </tr>\n",
       "    <tr>\n",
       "      <th>7</th>\n",
       "      <td>Clothing</td>\n",
       "      <td>180</td>\n",
       "    </tr>\n",
       "    <tr>\n",
       "      <th>8</th>\n",
       "      <td>Furniture</td>\n",
       "      <td>350</td>\n",
       "    </tr>\n",
       "    <tr>\n",
       "      <th>9</th>\n",
       "      <td>Electronics</td>\n",
       "      <td>400</td>\n",
       "    </tr>\n",
       "  </tbody>\n",
       "</table>\n",
       "</div>"
      ],
      "text/plain": [
       "  ProductCategory  Amount\n",
       "0     Electronics     200\n",
       "1        Clothing     150\n",
       "2     Electronics     300\n",
       "3       Furniture     450\n",
       "4        Clothing     200\n",
       "5     Electronics     250\n",
       "6       Furniture     300\n",
       "7        Clothing     180\n",
       "8       Furniture     350\n",
       "9     Electronics     400"
      ]
     },
     "execution_count": 65,
     "metadata": {},
     "output_type": "execute_result"
    }
   ],
   "source": [
    "#Display category and amount\n",
    "transactions[['ProductCategory','Amount']]"
   ]
  },
  {
   "cell_type": "code",
   "execution_count": 69,
   "id": "a53aa881-c8c8-4c7e-89e3-e393236f675c",
   "metadata": {},
   "outputs": [
    {
     "data": {
      "text/html": [
       "<div>\n",
       "<style scoped>\n",
       "    .dataframe tbody tr th:only-of-type {\n",
       "        vertical-align: middle;\n",
       "    }\n",
       "\n",
       "    .dataframe tbody tr th {\n",
       "        vertical-align: top;\n",
       "    }\n",
       "\n",
       "    .dataframe thead th {\n",
       "        text-align: right;\n",
       "    }\n",
       "</style>\n",
       "<table border=\"1\" class=\"dataframe\">\n",
       "  <thead>\n",
       "    <tr style=\"text-align: right;\">\n",
       "      <th></th>\n",
       "      <th>ProductCategory</th>\n",
       "      <th>Region</th>\n",
       "      <th>Amount</th>\n",
       "    </tr>\n",
       "  </thead>\n",
       "  <tbody>\n",
       "    <tr>\n",
       "      <th>0</th>\n",
       "      <td>Electronics</td>\n",
       "      <td>North</td>\n",
       "      <td>200</td>\n",
       "    </tr>\n",
       "    <tr>\n",
       "      <th>1</th>\n",
       "      <td>Clothing</td>\n",
       "      <td>South</td>\n",
       "      <td>150</td>\n",
       "    </tr>\n",
       "    <tr>\n",
       "      <th>2</th>\n",
       "      <td>Electronics</td>\n",
       "      <td>North</td>\n",
       "      <td>300</td>\n",
       "    </tr>\n",
       "    <tr>\n",
       "      <th>3</th>\n",
       "      <td>Furniture</td>\n",
       "      <td>East</td>\n",
       "      <td>450</td>\n",
       "    </tr>\n",
       "    <tr>\n",
       "      <th>4</th>\n",
       "      <td>Clothing</td>\n",
       "      <td>West</td>\n",
       "      <td>200</td>\n",
       "    </tr>\n",
       "    <tr>\n",
       "      <th>5</th>\n",
       "      <td>Electronics</td>\n",
       "      <td>North</td>\n",
       "      <td>250</td>\n",
       "    </tr>\n",
       "    <tr>\n",
       "      <th>6</th>\n",
       "      <td>Furniture</td>\n",
       "      <td>East</td>\n",
       "      <td>300</td>\n",
       "    </tr>\n",
       "    <tr>\n",
       "      <th>7</th>\n",
       "      <td>Clothing</td>\n",
       "      <td>West</td>\n",
       "      <td>180</td>\n",
       "    </tr>\n",
       "    <tr>\n",
       "      <th>8</th>\n",
       "      <td>Furniture</td>\n",
       "      <td>South</td>\n",
       "      <td>350</td>\n",
       "    </tr>\n",
       "    <tr>\n",
       "      <th>9</th>\n",
       "      <td>Electronics</td>\n",
       "      <td>North</td>\n",
       "      <td>400</td>\n",
       "    </tr>\n",
       "  </tbody>\n",
       "</table>\n",
       "</div>"
      ],
      "text/plain": [
       "  ProductCategory Region  Amount\n",
       "0     Electronics  North     200\n",
       "1        Clothing  South     150\n",
       "2     Electronics  North     300\n",
       "3       Furniture   East     450\n",
       "4        Clothing   West     200\n",
       "5     Electronics  North     250\n",
       "6       Furniture   East     300\n",
       "7        Clothing   West     180\n",
       "8       Furniture  South     350\n",
       "9     Electronics  North     400"
      ]
     },
     "execution_count": 69,
     "metadata": {},
     "output_type": "execute_result"
    }
   ],
   "source": [
    "#Last 3 columns\n",
    "transactions.iloc[:,-3:]"
   ]
  },
  {
   "cell_type": "code",
   "execution_count": 72,
   "id": "662252fa-8333-43d4-a7c9-f0de9228e3a1",
   "metadata": {},
   "outputs": [
    {
     "data": {
      "text/html": [
       "<div>\n",
       "<style scoped>\n",
       "    .dataframe tbody tr th:only-of-type {\n",
       "        vertical-align: middle;\n",
       "    }\n",
       "\n",
       "    .dataframe tbody tr th {\n",
       "        vertical-align: top;\n",
       "    }\n",
       "\n",
       "    .dataframe thead th {\n",
       "        text-align: right;\n",
       "    }\n",
       "</style>\n",
       "<table border=\"1\" class=\"dataframe\">\n",
       "  <thead>\n",
       "    <tr style=\"text-align: right;\">\n",
       "      <th></th>\n",
       "      <th>TransactionID</th>\n",
       "      <th>ProductCategory</th>\n",
       "      <th>Region</th>\n",
       "      <th>Amount</th>\n",
       "    </tr>\n",
       "  </thead>\n",
       "  <tbody>\n",
       "    <tr>\n",
       "      <th>2</th>\n",
       "      <td>103</td>\n",
       "      <td>Electronics</td>\n",
       "      <td>North</td>\n",
       "      <td>300</td>\n",
       "    </tr>\n",
       "    <tr>\n",
       "      <th>5</th>\n",
       "      <td>106</td>\n",
       "      <td>Electronics</td>\n",
       "      <td>North</td>\n",
       "      <td>250</td>\n",
       "    </tr>\n",
       "    <tr>\n",
       "      <th>9</th>\n",
       "      <td>110</td>\n",
       "      <td>Electronics</td>\n",
       "      <td>North</td>\n",
       "      <td>400</td>\n",
       "    </tr>\n",
       "  </tbody>\n",
       "</table>\n",
       "</div>"
      ],
      "text/plain": [
       "   TransactionID ProductCategory Region  Amount\n",
       "2            103     Electronics  North     300\n",
       "5            106     Electronics  North     250\n",
       "9            110     Electronics  North     400"
      ]
     },
     "execution_count": 72,
     "metadata": {},
     "output_type": "execute_result"
    }
   ],
   "source": [
    "#Filter region and amount\n",
    "filtered = transactions[(transactions['Region'] == 'North') & (transactions['Amount'] > 200)]\n",
    "filtered"
   ]
  },
  {
   "cell_type": "code",
   "execution_count": 74,
   "id": "4afd6e9d-e3a2-4c56-80c1-f96658bf91fa",
   "metadata": {},
   "outputs": [
    {
     "data": {
      "text/plain": [
       "ProductCategory\n",
       "Electronics    4\n",
       "Clothing       3\n",
       "Furniture      3\n",
       "Name: count, dtype: int64"
      ]
     },
     "execution_count": 74,
     "metadata": {},
     "output_type": "execute_result"
    }
   ],
   "source": [
    "#Product category value counts\n",
    "transactions['ProductCategory'].value_counts()"
   ]
  },
  {
   "cell_type": "code",
   "execution_count": 76,
   "id": "bfe1e853-816d-4f33-aefb-f3a9a7c0816a",
   "metadata": {},
   "outputs": [
    {
     "data": {
      "text/plain": [
       "array(['North', 'South', 'East', 'West'], dtype=object)"
      ]
     },
     "execution_count": 76,
     "metadata": {},
     "output_type": "execute_result"
    }
   ],
   "source": [
    "#Unique regions\n",
    "transactions['Region'].unique()"
   ]
  },
  {
   "cell_type": "code",
   "execution_count": 78,
   "id": "0d362582-9631-4928-8292-c78c0f680155",
   "metadata": {},
   "outputs": [
    {
     "data": {
      "text/plain": [
       "Region\n",
       "East     375.0\n",
       "North    287.5\n",
       "South    250.0\n",
       "West     190.0\n",
       "Name: Amount, dtype: float64"
      ]
     },
     "execution_count": 78,
     "metadata": {},
     "output_type": "execute_result"
    }
   ],
   "source": [
    "#Average by region\n",
    "df = transactions.groupby('Region')['Amount'].mean()\n",
    "df"
   ]
  },
  {
   "cell_type": "code",
   "execution_count": 80,
   "id": "4e1d893f-ad95-41e0-aae8-eff48f9d37e1",
   "metadata": {},
   "outputs": [
    {
     "data": {
      "text/html": [
       "<div>\n",
       "<style scoped>\n",
       "    .dataframe tbody tr th:only-of-type {\n",
       "        vertical-align: middle;\n",
       "    }\n",
       "\n",
       "    .dataframe tbody tr th {\n",
       "        vertical-align: top;\n",
       "    }\n",
       "\n",
       "    .dataframe thead th {\n",
       "        text-align: right;\n",
       "    }\n",
       "</style>\n",
       "<table border=\"1\" class=\"dataframe\">\n",
       "  <thead>\n",
       "    <tr style=\"text-align: right;\">\n",
       "      <th></th>\n",
       "      <th>TransactionID</th>\n",
       "      <th>ProductCategory</th>\n",
       "      <th>Region</th>\n",
       "      <th>Amount</th>\n",
       "    </tr>\n",
       "  </thead>\n",
       "  <tbody>\n",
       "    <tr>\n",
       "      <th>0</th>\n",
       "      <td>101</td>\n",
       "      <td>Electronics</td>\n",
       "      <td>North</td>\n",
       "      <td>200</td>\n",
       "    </tr>\n",
       "    <tr>\n",
       "      <th>1</th>\n",
       "      <td>102</td>\n",
       "      <td>Clothing</td>\n",
       "      <td>South</td>\n",
       "      <td>165</td>\n",
       "    </tr>\n",
       "    <tr>\n",
       "      <th>2</th>\n",
       "      <td>103</td>\n",
       "      <td>Electronics</td>\n",
       "      <td>North</td>\n",
       "      <td>300</td>\n",
       "    </tr>\n",
       "    <tr>\n",
       "      <th>3</th>\n",
       "      <td>104</td>\n",
       "      <td>Furniture</td>\n",
       "      <td>East</td>\n",
       "      <td>450</td>\n",
       "    </tr>\n",
       "    <tr>\n",
       "      <th>4</th>\n",
       "      <td>105</td>\n",
       "      <td>Clothing</td>\n",
       "      <td>West</td>\n",
       "      <td>200</td>\n",
       "    </tr>\n",
       "    <tr>\n",
       "      <th>5</th>\n",
       "      <td>106</td>\n",
       "      <td>Electronics</td>\n",
       "      <td>North</td>\n",
       "      <td>250</td>\n",
       "    </tr>\n",
       "    <tr>\n",
       "      <th>6</th>\n",
       "      <td>107</td>\n",
       "      <td>Furniture</td>\n",
       "      <td>East</td>\n",
       "      <td>300</td>\n",
       "    </tr>\n",
       "    <tr>\n",
       "      <th>7</th>\n",
       "      <td>108</td>\n",
       "      <td>Clothing</td>\n",
       "      <td>West</td>\n",
       "      <td>180</td>\n",
       "    </tr>\n",
       "    <tr>\n",
       "      <th>8</th>\n",
       "      <td>109</td>\n",
       "      <td>Furniture</td>\n",
       "      <td>South</td>\n",
       "      <td>350</td>\n",
       "    </tr>\n",
       "    <tr>\n",
       "      <th>9</th>\n",
       "      <td>110</td>\n",
       "      <td>Electronics</td>\n",
       "      <td>North</td>\n",
       "      <td>400</td>\n",
       "    </tr>\n",
       "  </tbody>\n",
       "</table>\n",
       "</div>"
      ],
      "text/plain": [
       "   TransactionID ProductCategory Region  Amount\n",
       "0            101     Electronics  North     200\n",
       "1            102        Clothing  South     165\n",
       "2            103     Electronics  North     300\n",
       "3            104       Furniture   East     450\n",
       "4            105        Clothing   West     200\n",
       "5            106     Electronics  North     250\n",
       "6            107       Furniture   East     300\n",
       "7            108        Clothing   West     180\n",
       "8            109       Furniture  South     350\n",
       "9            110     Electronics  North     400"
      ]
     },
     "execution_count": 80,
     "metadata": {},
     "output_type": "execute_result"
    }
   ],
   "source": [
    "#Modify amount\n",
    "transactions.loc[transactions['TransactionID'] == 102, 'Amount'] = 165\n",
    "transactions"
   ]
  },
  {
   "cell_type": "code",
   "execution_count": 82,
   "id": "25ca5431-53e9-4486-b2c1-6eafb203f3e3",
   "metadata": {},
   "outputs": [
    {
     "data": {
      "text/html": [
       "<div>\n",
       "<style scoped>\n",
       "    .dataframe tbody tr th:only-of-type {\n",
       "        vertical-align: middle;\n",
       "    }\n",
       "\n",
       "    .dataframe tbody tr th {\n",
       "        vertical-align: top;\n",
       "    }\n",
       "\n",
       "    .dataframe thead th {\n",
       "        text-align: right;\n",
       "    }\n",
       "</style>\n",
       "<table border=\"1\" class=\"dataframe\">\n",
       "  <thead>\n",
       "    <tr style=\"text-align: right;\">\n",
       "      <th></th>\n",
       "      <th>TransactionID</th>\n",
       "      <th>ProductCategory</th>\n",
       "      <th>Region</th>\n",
       "      <th>Amount</th>\n",
       "      <th>Discount</th>\n",
       "    </tr>\n",
       "  </thead>\n",
       "  <tbody>\n",
       "    <tr>\n",
       "      <th>0</th>\n",
       "      <td>101</td>\n",
       "      <td>Electronics</td>\n",
       "      <td>North</td>\n",
       "      <td>200</td>\n",
       "      <td>20.0</td>\n",
       "    </tr>\n",
       "    <tr>\n",
       "      <th>1</th>\n",
       "      <td>102</td>\n",
       "      <td>Clothing</td>\n",
       "      <td>South</td>\n",
       "      <td>165</td>\n",
       "      <td>16.5</td>\n",
       "    </tr>\n",
       "    <tr>\n",
       "      <th>2</th>\n",
       "      <td>103</td>\n",
       "      <td>Electronics</td>\n",
       "      <td>North</td>\n",
       "      <td>300</td>\n",
       "      <td>30.0</td>\n",
       "    </tr>\n",
       "    <tr>\n",
       "      <th>3</th>\n",
       "      <td>104</td>\n",
       "      <td>Furniture</td>\n",
       "      <td>East</td>\n",
       "      <td>450</td>\n",
       "      <td>45.0</td>\n",
       "    </tr>\n",
       "    <tr>\n",
       "      <th>4</th>\n",
       "      <td>105</td>\n",
       "      <td>Clothing</td>\n",
       "      <td>West</td>\n",
       "      <td>200</td>\n",
       "      <td>20.0</td>\n",
       "    </tr>\n",
       "    <tr>\n",
       "      <th>5</th>\n",
       "      <td>106</td>\n",
       "      <td>Electronics</td>\n",
       "      <td>North</td>\n",
       "      <td>250</td>\n",
       "      <td>25.0</td>\n",
       "    </tr>\n",
       "    <tr>\n",
       "      <th>6</th>\n",
       "      <td>107</td>\n",
       "      <td>Furniture</td>\n",
       "      <td>East</td>\n",
       "      <td>300</td>\n",
       "      <td>30.0</td>\n",
       "    </tr>\n",
       "    <tr>\n",
       "      <th>7</th>\n",
       "      <td>108</td>\n",
       "      <td>Clothing</td>\n",
       "      <td>West</td>\n",
       "      <td>180</td>\n",
       "      <td>18.0</td>\n",
       "    </tr>\n",
       "    <tr>\n",
       "      <th>8</th>\n",
       "      <td>109</td>\n",
       "      <td>Furniture</td>\n",
       "      <td>South</td>\n",
       "      <td>350</td>\n",
       "      <td>35.0</td>\n",
       "    </tr>\n",
       "    <tr>\n",
       "      <th>9</th>\n",
       "      <td>110</td>\n",
       "      <td>Electronics</td>\n",
       "      <td>North</td>\n",
       "      <td>400</td>\n",
       "      <td>40.0</td>\n",
       "    </tr>\n",
       "  </tbody>\n",
       "</table>\n",
       "</div>"
      ],
      "text/plain": [
       "   TransactionID ProductCategory Region  Amount  Discount\n",
       "0            101     Electronics  North     200      20.0\n",
       "1            102        Clothing  South     165      16.5\n",
       "2            103     Electronics  North     300      30.0\n",
       "3            104       Furniture   East     450      45.0\n",
       "4            105        Clothing   West     200      20.0\n",
       "5            106     Electronics  North     250      25.0\n",
       "6            107       Furniture   East     300      30.0\n",
       "7            108        Clothing   West     180      18.0\n",
       "8            109       Furniture  South     350      35.0\n",
       "9            110     Electronics  North     400      40.0"
      ]
     },
     "execution_count": 82,
     "metadata": {},
     "output_type": "execute_result"
    }
   ],
   "source": [
    "transactions['Discount'] = transactions['Amount']/ 10\n",
    "transactions"
   ]
  },
  {
   "cell_type": "code",
   "execution_count": 88,
   "id": "cb7d2821-aa6f-4c7a-a1ec-299368e2cdf4",
   "metadata": {},
   "outputs": [
    {
     "data": {
      "text/html": [
       "<div>\n",
       "<style scoped>\n",
       "    .dataframe tbody tr th:only-of-type {\n",
       "        vertical-align: middle;\n",
       "    }\n",
       "\n",
       "    .dataframe tbody tr th {\n",
       "        vertical-align: top;\n",
       "    }\n",
       "\n",
       "    .dataframe thead th {\n",
       "        text-align: right;\n",
       "    }\n",
       "</style>\n",
       "<table border=\"1\" class=\"dataframe\">\n",
       "  <thead>\n",
       "    <tr style=\"text-align: right;\">\n",
       "      <th></th>\n",
       "      <th>TransactionID</th>\n",
       "      <th>ProductCategory</th>\n",
       "      <th>Region</th>\n",
       "      <th>Amount</th>\n",
       "      <th>Discount</th>\n",
       "    </tr>\n",
       "  </thead>\n",
       "  <tbody>\n",
       "    <tr>\n",
       "      <th>0</th>\n",
       "      <td>101</td>\n",
       "      <td>Electronics</td>\n",
       "      <td>North</td>\n",
       "      <td>200</td>\n",
       "      <td>20.0</td>\n",
       "    </tr>\n",
       "    <tr>\n",
       "      <th>1</th>\n",
       "      <td>102</td>\n",
       "      <td>Clothing</td>\n",
       "      <td>South</td>\n",
       "      <td>165</td>\n",
       "      <td>16.5</td>\n",
       "    </tr>\n",
       "    <tr>\n",
       "      <th>2</th>\n",
       "      <td>103</td>\n",
       "      <td>Electronics</td>\n",
       "      <td>North</td>\n",
       "      <td>300</td>\n",
       "      <td>30.0</td>\n",
       "    </tr>\n",
       "    <tr>\n",
       "      <th>3</th>\n",
       "      <td>104</td>\n",
       "      <td>Furniture</td>\n",
       "      <td>East</td>\n",
       "      <td>450</td>\n",
       "      <td>45.0</td>\n",
       "    </tr>\n",
       "    <tr>\n",
       "      <th>4</th>\n",
       "      <td>105</td>\n",
       "      <td>Clothing</td>\n",
       "      <td>West</td>\n",
       "      <td>200</td>\n",
       "      <td>20.0</td>\n",
       "    </tr>\n",
       "    <tr>\n",
       "      <th>5</th>\n",
       "      <td>106</td>\n",
       "      <td>Electronics</td>\n",
       "      <td>North</td>\n",
       "      <td>250</td>\n",
       "      <td>25.0</td>\n",
       "    </tr>\n",
       "    <tr>\n",
       "      <th>6</th>\n",
       "      <td>107</td>\n",
       "      <td>Furniture</td>\n",
       "      <td>East</td>\n",
       "      <td>300</td>\n",
       "      <td>30.0</td>\n",
       "    </tr>\n",
       "    <tr>\n",
       "      <th>7</th>\n",
       "      <td>108</td>\n",
       "      <td>Clothing</td>\n",
       "      <td>West</td>\n",
       "      <td>180</td>\n",
       "      <td>18.0</td>\n",
       "    </tr>\n",
       "    <tr>\n",
       "      <th>9</th>\n",
       "      <td>110</td>\n",
       "      <td>Electronics</td>\n",
       "      <td>North</td>\n",
       "      <td>400</td>\n",
       "      <td>40.0</td>\n",
       "    </tr>\n",
       "  </tbody>\n",
       "</table>\n",
       "</div>"
      ],
      "text/plain": [
       "   TransactionID ProductCategory Region  Amount  Discount\n",
       "0            101     Electronics  North     200      20.0\n",
       "1            102        Clothing  South     165      16.5\n",
       "2            103     Electronics  North     300      30.0\n",
       "3            104       Furniture   East     450      45.0\n",
       "4            105        Clothing   West     200      20.0\n",
       "5            106     Electronics  North     250      25.0\n",
       "6            107       Furniture   East     300      30.0\n",
       "7            108        Clothing   West     180      18.0\n",
       "9            110     Electronics  North     400      40.0"
      ]
     },
     "execution_count": 88,
     "metadata": {},
     "output_type": "execute_result"
    }
   ],
   "source": [
    "#Remove row\n",
    "transactions= transactions.drop(8)\n",
    "transactions"
   ]
  },
  {
   "cell_type": "code",
   "execution_count": 89,
   "id": "b610ebb2-a0ac-49ac-9f5f-2d063dc4b99f",
   "metadata": {},
   "outputs": [
    {
     "data": {
      "text/html": [
       "<div>\n",
       "<style scoped>\n",
       "    .dataframe tbody tr th:only-of-type {\n",
       "        vertical-align: middle;\n",
       "    }\n",
       "\n",
       "    .dataframe tbody tr th {\n",
       "        vertical-align: top;\n",
       "    }\n",
       "\n",
       "    .dataframe thead th {\n",
       "        text-align: right;\n",
       "    }\n",
       "</style>\n",
       "<table border=\"1\" class=\"dataframe\">\n",
       "  <thead>\n",
       "    <tr style=\"text-align: right;\">\n",
       "      <th></th>\n",
       "      <th>TransactionID</th>\n",
       "      <th>ProductCategory</th>\n",
       "      <th>Region</th>\n",
       "      <th>Amount</th>\n",
       "    </tr>\n",
       "  </thead>\n",
       "  <tbody>\n",
       "    <tr>\n",
       "      <th>0</th>\n",
       "      <td>101</td>\n",
       "      <td>Electronics</td>\n",
       "      <td>North</td>\n",
       "      <td>200</td>\n",
       "    </tr>\n",
       "    <tr>\n",
       "      <th>1</th>\n",
       "      <td>102</td>\n",
       "      <td>Clothing</td>\n",
       "      <td>South</td>\n",
       "      <td>165</td>\n",
       "    </tr>\n",
       "    <tr>\n",
       "      <th>2</th>\n",
       "      <td>103</td>\n",
       "      <td>Electronics</td>\n",
       "      <td>North</td>\n",
       "      <td>300</td>\n",
       "    </tr>\n",
       "    <tr>\n",
       "      <th>3</th>\n",
       "      <td>104</td>\n",
       "      <td>Furniture</td>\n",
       "      <td>East</td>\n",
       "      <td>450</td>\n",
       "    </tr>\n",
       "    <tr>\n",
       "      <th>4</th>\n",
       "      <td>105</td>\n",
       "      <td>Clothing</td>\n",
       "      <td>West</td>\n",
       "      <td>200</td>\n",
       "    </tr>\n",
       "    <tr>\n",
       "      <th>5</th>\n",
       "      <td>106</td>\n",
       "      <td>Electronics</td>\n",
       "      <td>North</td>\n",
       "      <td>250</td>\n",
       "    </tr>\n",
       "    <tr>\n",
       "      <th>6</th>\n",
       "      <td>107</td>\n",
       "      <td>Furniture</td>\n",
       "      <td>East</td>\n",
       "      <td>300</td>\n",
       "    </tr>\n",
       "    <tr>\n",
       "      <th>7</th>\n",
       "      <td>108</td>\n",
       "      <td>Clothing</td>\n",
       "      <td>West</td>\n",
       "      <td>180</td>\n",
       "    </tr>\n",
       "    <tr>\n",
       "      <th>9</th>\n",
       "      <td>110</td>\n",
       "      <td>Electronics</td>\n",
       "      <td>North</td>\n",
       "      <td>400</td>\n",
       "    </tr>\n",
       "  </tbody>\n",
       "</table>\n",
       "</div>"
      ],
      "text/plain": [
       "   TransactionID ProductCategory Region  Amount\n",
       "0            101     Electronics  North     200\n",
       "1            102        Clothing  South     165\n",
       "2            103     Electronics  North     300\n",
       "3            104       Furniture   East     450\n",
       "4            105        Clothing   West     200\n",
       "5            106     Electronics  North     250\n",
       "6            107       Furniture   East     300\n",
       "7            108        Clothing   West     180\n",
       "9            110     Electronics  North     400"
      ]
     },
     "execution_count": 89,
     "metadata": {},
     "output_type": "execute_result"
    }
   ],
   "source": [
    "#Remove column\n",
    "transactions = transactions.drop('Discount', axis=1)\n",
    "transactions"
   ]
  },
  {
   "cell_type": "code",
   "execution_count": null,
   "id": "1ab3a121-eefb-4a3d-b505-d89c15870b0f",
   "metadata": {},
   "outputs": [],
   "source": []
  },
  {
   "cell_type": "code",
   "execution_count": null,
   "id": "0aed11e2-aa6c-49a2-80ef-4917d61a741c",
   "metadata": {},
   "outputs": [],
   "source": []
  }
 ],
 "metadata": {
  "kernelspec": {
   "display_name": "Python 3 (ipykernel)",
   "language": "python",
   "name": "python3"
  },
  "language_info": {
   "codemirror_mode": {
    "name": "ipython",
    "version": 3
   },
   "file_extension": ".py",
   "mimetype": "text/x-python",
   "name": "python",
   "nbconvert_exporter": "python",
   "pygments_lexer": "ipython3",
   "version": "3.13.2"
  }
 },
 "nbformat": 4,
 "nbformat_minor": 5
}
